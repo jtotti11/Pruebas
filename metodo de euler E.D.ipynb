{
 "metadata": {
  "name": "",
  "signature": "sha256:e01828759fcbe0f9db90ec0c171879f1a53b88c51b04764debba863a08828ac2"
 },
 "nbformat": 3,
 "nbformat_minor": 0,
 "worksheets": [
  {
   "cells": [
    {
     "cell_type": "code",
     "collapsed": false,
     "input": [
      "%pylab inline"
     ],
     "language": "python",
     "metadata": {},
     "outputs": [
      {
       "output_type": "stream",
       "stream": "stdout",
       "text": [
        "Populating the interactive namespace from numpy and matplotlib\n"
       ]
      }
     ],
     "prompt_number": 1
    },
    {
     "cell_type": "code",
     "collapsed": false,
     "input": [
      "t0=0.0\n",
      "tf=1.0\n",
      "n=1000000.0\n",
      "h=(tf-t0)/n\n",
      "e=2.7182818284590452353602874713\n",
      "\n",
      "xn=np.zeros(n+1)\n",
      "\n",
      "yn=np.zeros(n+1)\n",
      "\n",
      "y2=np.zeros(n+1)\n",
      "\n",
      "\n",
      "for i in range(1000001):\n",
      "    xn[1]=h\n",
      "    xn[i]=xn[i-1]+h\n",
      "    xn[0]=0\n",
      "\n",
      "for i in range(1000001):\n",
      "    yn[0]=1\n",
      "    dy=(xn[i-1])\n",
      "    yn[i]=yn[i-1]+(dy*h)\n",
      "    \n",
      "for i in range(1000001):\n",
      "    y2[i]=(xn[i]/2)+1\n",
      "    \n",
      "plot(xn,yn, label=\"Metodo de euler\")\n",
      "plot(xn,y2, label=\"Real\")\n",
      "legend(fontsize=8)\n",
      "\n",
      "print yn[1000000]\n",
      "print (y2[1000000])\n"
     ],
     "language": "python",
     "metadata": {},
     "outputs": [
      {
       "output_type": "stream",
       "stream": "stdout",
       "text": [
        "1.4999995\n",
        "1.5\n"
       ]
      },
      {
       "metadata": {},
       "output_type": "display_data",
       "png": "[encoded data removed]",
       "text": [
        "<matplotlib.figure.Figure at 0x1fa11320>"
       ]
      }
     ],
     "prompt_number": 114
    },
    {
     "cell_type": "code",
     "collapsed": false,
     "input": [],
     "language": "python",
     "metadata": {},
     "outputs": [],
     "prompt_number": 32
    },
    {
     "cell_type": "code",
     "collapsed": false,
     "input": [],
     "language": "python",
     "metadata": {},
     "outputs": []
    }
   ],
   "metadata": {}
  }
 ]
}